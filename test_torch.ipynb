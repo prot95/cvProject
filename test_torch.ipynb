{
 "cells": [
  {
   "cell_type": "code",
   "execution_count": 1,
   "metadata": {},
   "outputs": [],
   "source": [
    "import torch\n",
    "import cv2"
   ]
  },
  {
   "cell_type": "code",
   "execution_count": 2,
   "metadata": {},
   "outputs": [
    {
     "name": "stderr",
     "output_type": "stream",
     "text": [
      "Using cache found in C:\\Users\\Sai Ramesh/.cache\\torch\\hub\\ultralytics_yolov5_master\n",
      "YOLOv5  2022-11-28 Python-3.9.12 torch-1.12.1 CPU\n",
      "\n",
      "Fusing layers... \n",
      "YOLOv5s summary: 213 layers, 7225885 parameters, 0 gradients\n",
      "Adding AutoShape... \n"
     ]
    }
   ],
   "source": [
    "# Model\n",
    "model = torch.hub.load('ultralytics/yolov5', 'yolov5s')  # or yolov5m, yolov5l, yolov5x, etc.\n",
    "# model = torch.hub.load('ultralytics/yolov5', 'custom', './yolov5s.pt')  # custom trained model\n",
    "# model = torch.hub.load('hustvl/yolop', 'yolop', pretrained=True)\n",
    "# Images\n",
    "# image = 'https://ultralytics.com/images/zidane.jpg'  # or file, Path, URL, PIL, OpenCV, numpy, list\n",
    "\n",
    "def return_coords(model, img_path):\n",
    "    image = cv2.imread(img_path) \n",
    "    results = model(image)\n",
    "    coords_df = results.pandas().xyxy[0]\n",
    "    return results, coords_df\n",
    "\n",
    "# Inference\n",
    "\n",
    "\n",
    "# Results\n",
    "# results.print()  # or .show(), .save(), .crop(), .pandas(), etc.\n",
    "\n",
    "# results.xyxy[0]  # im predictions (tensor)\n",
    "# results.pandas().xyxy[0] "
   ]
  },
  {
   "cell_type": "code",
   "execution_count": 3,
   "metadata": {},
   "outputs": [],
   "source": [
    "results, df = return_coords(model, \"IMG_0044.jpg\")"
   ]
  },
  {
   "cell_type": "code",
   "execution_count": 4,
   "metadata": {},
   "outputs": [],
   "source": [
    "# results.show()"
   ]
  },
  {
   "cell_type": "code",
   "execution_count": 5,
   "metadata": {},
   "outputs": [],
   "source": [
    "results, df = return_coords(model, \"IMG_0047.jpg\")\n",
    "# results.show()"
   ]
  },
  {
   "cell_type": "code",
   "execution_count": 6,
   "metadata": {},
   "outputs": [],
   "source": [
    "results, df = return_coords(model, \"IMG_0048.jpg\")\n",
    "# results.show()"
   ]
  },
  {
   "cell_type": "code",
   "execution_count": 7,
   "metadata": {},
   "outputs": [],
   "source": [
    "ref_width_inches = 4\n",
    "ref_height_inches = 3\n",
    "reference_idx = df[df[\"name\"] == \"suitcase\"].index[0]"
   ]
  },
  {
   "cell_type": "code",
   "execution_count": 8,
   "metadata": {},
   "outputs": [
    {
     "name": "stdout",
     "output_type": "stream",
     "text": [
      "Object number: 1, Predicted width: 6.662073738939582 inches, Predicted height: 4.308026872835179 inches\n"
     ]
    }
   ],
   "source": [
    "\n",
    "reference_coords = df.iloc[reference_idx, :]\n",
    "obj_idx = [val for val in df.index if val != reference_idx]\n",
    "ref_width_pixels = reference_coords[\"xmax\"] - reference_coords[\"xmin\"]\n",
    "ref_height_pixels = reference_coords[\"ymax\"] - reference_coords[\"ymin\"]\n",
    "for idx in obj_idx:\n",
    "    coords = df.iloc[idx, :]\n",
    "    width = coords[\"xmax\"] - coords[\"xmin\"]\n",
    "    reference_coords[\"xmax\"] - reference_coords[\"xmin\"]\n",
    "    pred_width = width / ref_width_pixels *  ref_width_inches\n",
    "    height = coords[\"ymax\"] - coords[\"ymin\"]\n",
    "    # print(height, ref_height_pixels)\n",
    "    pred_height = (height / ref_height_pixels) * ref_height_inches\n",
    "    print(f\"Object number: {idx}, Predicted width: {pred_width} inches, Predicted height: {pred_height} inches\")"
   ]
  }
 ],
 "metadata": {
  "kernelspec": {
   "display_name": "Python 3.9.12 ('base')",
   "language": "python",
   "name": "python3"
  },
  "language_info": {
   "codemirror_mode": {
    "name": "ipython",
    "version": 3
   },
   "file_extension": ".py",
   "mimetype": "text/x-python",
   "name": "python",
   "nbconvert_exporter": "python",
   "pygments_lexer": "ipython3",
   "version": "3.9.12"
  },
  "orig_nbformat": 4,
  "vscode": {
   "interpreter": {
    "hash": "ff4f85d6e04298634172ac5d8264e7e9b556b95639fe52ebb9425c4d4cba0c9c"
   }
  }
 },
 "nbformat": 4,
 "nbformat_minor": 2
}
